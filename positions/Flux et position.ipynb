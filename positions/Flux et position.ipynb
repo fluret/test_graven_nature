{
 "cells": [
  {
   "attachments": {},
   "cell_type": "markdown",
   "metadata": {},
   "source": [
    "# Flux et position relative\n",
    "\n",
    "Pour représenter le positionnement en flux normal, on peut imaginer le navigateur parcourant (logiquement) la page de code HTML du début à la fin et retranscrivant son contenu au fur et à mesure des balises rencontrées. Comme dans la lecture d'un texte, il procède verticalement, commençant en \"haut\" de l'écran pour aller jusqu'en \"bas\", et horizontalement de gauche à droite, sur la totalité de l'espace disponible et nécessaire en largeur comme en hauteur.\n",
    "\n",
    "## Boîte de type bloc en flux normal\n",
    "\n",
    "Par défaut, les boîtes de type bloc seront affichées dans une succession verticale. Prenons par exemple deux blocs différenciés par leur couleur :\n",
    "\n",
    "En HTML :"
   ]
  },
  {
   "attachments": {},
   "cell_type": "markdown",
   "metadata": {},
   "source": [
    "<p class=\"jaune\">Une boîte jaune</p>\n",
    "<p class=\"verte\">Une boîte verte</p>\n",
    "\n",
    "En CSS :\n",
    "\n",
    ".jaune {\n",
    "  background-color: #ffff00;\n",
    "}\n",
    ".verte {\n",
    "  background-color: #00ff00;\n",
    "}\n",
    "\n",
    "Le résultat, illustré par la figure ci-dessous, peut être observé également dans l'exemple 1 :"
   ]
  },
  {
   "cell_type": "code",
   "execution_count": null,
   "metadata": {},
   "outputs": [],
   "source": []
  }
 ],
 "metadata": {
  "kernelspec": {
   "display_name": "Python 3",
   "language": "python",
   "name": "python3"
  },
  "language_info": {
   "name": "python",
   "version": "3.11.0"
  },
  "orig_nbformat": 4,
  "vscode": {
   "interpreter": {
    "hash": "c261aea317cc0286b3b3261fbba9abdec21eaa57589985bb7a274bf54d6cc0a7"
   }
  }
 },
 "nbformat": 4,
 "nbformat_minor": 2
}
